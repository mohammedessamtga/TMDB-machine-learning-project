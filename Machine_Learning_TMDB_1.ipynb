{
  "nbformat": 4,
  "nbformat_minor": 0,
  "metadata": {
    "colab": {
      "name": "Machine Learning TMDB PreProcessing.ipynb",
      "provenance": [],
      "toc_visible": true
    },
    "kernelspec": {
      "name": "python3",
      "display_name": "Python 3"
    }
  },
  "cells": [
    {
      "cell_type": "code",
      "metadata": {
        "id": "t66CTAKHjrPL",
        "colab_type": "code",
        "outputId": "0eeb8f60-7388-436f-b695-93ceb9abf1a4",
        "colab": {
          "base_uri": "https://localhost:8080/",
          "height": 121
        }
      },
      "source": [
        "from google.colab import drive\n",
        "drive.mount('/content/drive')"
      ],
      "execution_count": 1,
      "outputs": [
        {
          "output_type": "stream",
          "text": [
            "Go to this URL in a browser: https://accounts.google.com/o/oauth2/auth?client_id=947318989803-6bn6qk8qdgf4n4g3pfee6491hc0brc4i.apps.googleusercontent.com&redirect_uri=urn%3aietf%3awg%3aoauth%3a2.0%3aoob&response_type=code&scope=email%20https%3a%2f%2fwww.googleapis.com%2fauth%2fdocs.test%20https%3a%2f%2fwww.googleapis.com%2fauth%2fdrive%20https%3a%2f%2fwww.googleapis.com%2fauth%2fdrive.photos.readonly%20https%3a%2f%2fwww.googleapis.com%2fauth%2fpeopleapi.readonly\n",
            "\n",
            "Enter your authorization code:\n",
            "··········\n",
            "Mounted at /content/drive\n"
          ],
          "name": "stdout"
        }
      ]
    },
    {
      "cell_type": "code",
      "metadata": {
        "id": "GaXLQ3cliztl",
        "colab_type": "code",
        "colab": {}
      },
      "source": [
        "import pandas as pd \n",
        "import numpy as np \n",
        "import json "
      ],
      "execution_count": 0,
      "outputs": []
    },
    {
      "cell_type": "code",
      "metadata": {
        "id": "Uvx4vofNkBty",
        "colab_type": "code",
        "colab": {}
      },
      "source": [
        "data_credits = pd.read_csv('/content/drive/My Drive/predicting_movie_success_train_set/tmdb_5000_credits_train.csv')\n",
        "data_movies  = pd.read_csv('/content/drive/My Drive/predicting_movie_success_train_set/tmdb_5000_movies_train.csv')"
      ],
      "execution_count": 0,
      "outputs": []
    },
    {
      "cell_type": "code",
      "metadata": {
        "id": "F74IMT10mRdy",
        "colab_type": "code",
        "colab": {
          "base_uri": "https://localhost:8080/",
          "height": 370
        },
        "outputId": "ffaa9c97-ea81-4e8b-b72d-4541e6af9848"
      },
      "source": [
        "data_movies.isna().sum()"
      ],
      "execution_count": 4,
      "outputs": [
        {
          "output_type": "execute_result",
          "data": {
            "text/plain": [
              "budget                  1004\n",
              "genres                  1004\n",
              "homepage                3382\n",
              "id                      1004\n",
              "keywords                1004\n",
              "original_language       1004\n",
              "original_title          1004\n",
              "overview                1005\n",
              "popularity              1004\n",
              "production_companies    1004\n",
              "production_countries    1004\n",
              "release_date            1004\n",
              "revenue                 1004\n",
              "runtime                 1005\n",
              "spoken_languages        1004\n",
              "status                  1004\n",
              "tagline                 1479\n",
              "title                   1004\n",
              "vote_average            1004\n",
              "vote_count              1004\n",
              "dtype: int64"
            ]
          },
          "metadata": {
            "tags": []
          },
          "execution_count": 4
        }
      ]
    },
    {
      "cell_type": "code",
      "metadata": {
        "id": "TQVKiiLXgef3",
        "colab_type": "code",
        "colab": {}
      },
      "source": [
        "data_movies = data_movies.dropna(how='all')"
      ],
      "execution_count": 0,
      "outputs": []
    },
    {
      "cell_type": "code",
      "metadata": {
        "id": "a5dUa3v3nJ3D",
        "colab_type": "code",
        "colab": {}
      },
      "source": [
        "combined_data=pd.merge(data_movies,data_credits[['movie_id','cast','crew']],left_on='id',right_on='movie_id')"
      ],
      "execution_count": 0,
      "outputs": []
    },
    {
      "cell_type": "code",
      "metadata": {
        "id": "ssjQpxpdnuEz",
        "colab_type": "code",
        "colab": {}
      },
      "source": [
        "combined_data.to_csv('/content/drive/My Drive/predicting_movie_success_train_set/CombinedData.csv')"
      ],
      "execution_count": 0,
      "outputs": []
    },
    {
      "cell_type": "markdown",
      "metadata": {
        "id": "_u_nBSmHOjQo",
        "colab_type": "text"
      },
      "source": [
        "#Continue "
      ]
    },
    {
      "cell_type": "code",
      "metadata": {
        "id": "Xd0vLGbUoLC6",
        "colab_type": "code",
        "colab": {}
      },
      "source": [
        "combined_data = pd.read_csv('/content/drive/My Drive/predicting_movie_success_train_set/CombinedData.csv')"
      ],
      "execution_count": 0,
      "outputs": []
    },
    {
      "cell_type": "code",
      "metadata": {
        "id": "dWafrpbyPDwB",
        "colab_type": "code",
        "colab": {}
      },
      "source": [
        "combined_data=combined_data.drop(['homepage','id','keywords','original_language','original_title','overview','production_countries','release_date','spoken_languages','status','tagline','title','movie_id'],axis=1)"
      ],
      "execution_count": 0,
      "outputs": []
    },
    {
      "cell_type": "code",
      "metadata": {
        "id": "jq9oWYwfLPYu",
        "colab_type": "code",
        "outputId": "454ebe49-5e00-496e-b200-7e770a193e16",
        "colab": {
          "base_uri": "https://localhost:8080/",
          "height": 151
        }
      },
      "source": [
        "combined_data.corr()['vote_average']"
      ],
      "execution_count": 10,
      "outputs": [
        {
          "output_type": "execute_result",
          "data": {
            "text/plain": [
              "Unnamed: 0     -0.006369\n",
              "budget          0.059468\n",
              "popularity      0.303670\n",
              "revenue         0.232986\n",
              "runtime         0.413934\n",
              "vote_average    1.000000\n",
              "vote_count      0.382702\n",
              "Name: vote_average, dtype: float64"
            ]
          },
          "metadata": {
            "tags": []
          },
          "execution_count": 10
        }
      ]
    },
    {
      "cell_type": "code",
      "metadata": {
        "id": "dnApx8KzNBTL",
        "colab_type": "code",
        "colab": {}
      },
      "source": [
        "def transform_dict(combined_data,col,focus):\n",
        "  d = dict()\n",
        "  c = dict()\n",
        "  i=0\n",
        "  for item in combined_data[col]:\n",
        "      temp = json.loads(item) \n",
        "      for it in temp : \n",
        "        if it[focus] not in d : \n",
        "          d[it[focus]]=combined_data.iloc[i,combined_data.shape[1]-4]\n",
        "          c[it[focus]]=1\n",
        "        else:\n",
        "          d[it[focus]]+=(combined_data.iloc[i,combined_data.shape[1]-4])\n",
        "          c[it[focus]]+=1\n",
        "      i+=1\n",
        "  final=dict()\n",
        "  for item in d : \n",
        "      final[item]=d[item]/c[item]\n",
        "  output=[]\n",
        "  for item in combined_data[col]:\n",
        "    tempo = json.loads(item)\n",
        "    adder=0 \n",
        "    for it in tempo : \n",
        "       adder+=final[it[focus]]\n",
        "    output.append(adder)\n",
        "  output = np.reshape(output,(combined_data.shape[0],))\n",
        "  return output"
      ],
      "execution_count": 0,
      "outputs": []
    },
    {
      "cell_type": "code",
      "metadata": {
        "id": "pGPUUFSjaWiW",
        "colab_type": "code",
        "colab": {}
      },
      "source": [
        "def transform_crew(combined_data,col,focus):\n",
        "  d = dict()\n",
        "  c = dict()\n",
        "  i=0\n",
        "  for item in combined_data[col]:\n",
        "      temp = json.loads(item) \n",
        "      for it in temp : \n",
        "        if it[focus] not in d and (it['department'] == 'Production' or it['department'] == 'Directing'): \n",
        "         \n",
        "          d[it[focus]]=combined_data.iloc[i,combined_data.shape[1]-4]\n",
        "          c[it[focus]]=1\n",
        "        elif it[focus] in d and (it['department'] == 'Production' or it['department'] == 'Directing'): \n",
        "          d[it[focus]]+=(combined_data.iloc[i,combined_data.shape[1]-4])\n",
        "          c[it[focus]]+=1\n",
        "      i+=1\n",
        "  final=dict()\n",
        "  for item in d : \n",
        "      final[item]=d[item]/c[item]\n",
        "      \n",
        "  output=[]\n",
        "  for item in combined_data[col]:\n",
        "    tempo = json.loads(item)\n",
        "    adder=0 \n",
        "    for it in tempo : \n",
        "       if (it['department'] == 'Production' or it['department'] == 'Directing'):\n",
        "          adder+=final[it[focus]]\n",
        "    output.append(adder)\n",
        "  output = np.reshape(output,(combined_data.shape[0],))\n",
        "  return output"
      ],
      "execution_count": 0,
      "outputs": []
    },
    {
      "cell_type": "code",
      "metadata": {
        "id": "ZB7MKGLIct5p",
        "colab_type": "code",
        "colab": {}
      },
      "source": [
        "genres =transform_dict(combined_data,'genres','name')\n",
        "production_companies = transform_dict(combined_data,'production_companies','name')\n",
        "cast = transform_dict(combined_data,'cast','name')\n",
        "crew = transform_crew(combined_data,'crew','name')\n",
        "#Update \n",
        "#keywords = transform_dict(combined_data,'keywords','name')\n",
        "#spoken_languages = transform_dict(combined_data,'spoken_languages','name') \n",
        "#production_countries = transform_dict(combined_data,'production_countries','name')\n"
      ],
      "execution_count": 0,
      "outputs": []
    },
    {
      "cell_type": "code",
      "metadata": {
        "id": "Yi72jEiyThnV",
        "colab_type": "code",
        "outputId": "abd585f9-36e7-43b5-c9a2-4aadca737788",
        "colab": {
          "base_uri": "https://localhost:8080/",
          "height": 252
        }
      },
      "source": [
        "g = dict() \n",
        "g['budget']=combined_data['budget']\n",
        "g['genres']=genres \n",
        "g['popularity']=combined_data['popularity']\n",
        "g['production_companies']=production_companies\n",
        "g['revenue']=combined_data['revenue']\n",
        "g['runtime']=combined_data['runtime']\n",
        "g['cast']=cast \n",
        "g['crew']=crew \n",
        "g['vote_count']=combined_data['vote_count']\n",
        "#g['vote weight']=combined_data['vote_count']*combined_data['vote_average']\n",
        "#g['keywords']=keywords\n",
        "#g['spoken_languages']=spoken_languages\n",
        "#g['production_countries']=production_countries\n",
        "#g['vote_average']=combined_data['vote_average']\n",
        "final_data = pd.DataFrame(g)\n",
        "print(final_data)"
      ],
      "execution_count": 17,
      "outputs": [
        {
          "output_type": "stream",
          "text": [
            "           budget     genres  popularity  ...         cast        crew  vote_count\n",
            "0     237000000.0  24.355775  150.437577  ...   576.968136   68.967292     11800.0\n",
            "1     300000000.0  18.284440  139.082615  ...   225.451795   77.081883      4500.0\n",
            "2     245000000.0  18.516796  107.376788  ...   528.118231  159.066861      4466.0\n",
            "3     250000000.0  24.928594  112.312950  ...  1129.055919  205.726358      9106.0\n",
            "4     260000000.0  18.276386   43.926995  ...   166.637054  127.631002      2124.0\n",
            "...           ...        ...         ...  ...          ...         ...         ...\n",
            "3794    4000000.0   6.460011    3.663108  ...    76.891667   42.166667        36.0\n",
            "3795     650000.0  30.480578   12.496261  ...    85.990476   68.593333       285.0\n",
            "3796          0.0   6.460011    0.596889  ...    75.033434   10.991667         7.0\n",
            "3797          0.0   6.460011    2.611364  ...    39.275000  103.025000        31.0\n",
            "3798    4000000.0  12.417745    3.238466  ...    62.935832   18.600000        37.0\n",
            "\n",
            "[3799 rows x 9 columns]\n"
          ],
          "name": "stdout"
        }
      ]
    },
    {
      "cell_type": "code",
      "metadata": {
        "id": "sstwBmt2d1pR",
        "colab_type": "code",
        "colab": {}
      },
      "source": [
        "final_data=final_data.dropna()\n"
      ],
      "execution_count": 0,
      "outputs": []
    },
    {
      "cell_type": "code",
      "metadata": {
        "id": "lZw546nVyqiA",
        "colab_type": "code",
        "colab": {}
      },
      "source": [
        "final_data.to_csv('/content/drive/My Drive/predicting_movie_success_train_set/FinallData.csv')"
      ],
      "execution_count": 0,
      "outputs": []
    },
    {
      "cell_type": "code",
      "metadata": {
        "id": "t4Oof6ibVr9Z",
        "colab_type": "code",
        "colab": {}
      },
      "source": [
        "final_data = pd.read_csv('/content/drive/My Drive/predicting_movie_success_train_set/FinalData.csv')"
      ],
      "execution_count": 0,
      "outputs": []
    },
    {
      "cell_type": "code",
      "metadata": {
        "id": "upS1p8Q49Q4C",
        "colab_type": "code",
        "outputId": "cbd49af5-c9d8-41e1-c46d-7ee128e73516",
        "colab": {
          "base_uri": "https://localhost:8080/",
          "height": 235
        }
      },
      "source": [
        "from sklearn.model_selection import train_test_split\n",
        "from sklearn.linear_model import LinearRegression\n",
        "#data = final_data[['budget','genres','popularity','production_companies','revenue','runtime','cast','crew','vote_count','keywords','spoken_languages','production_countries']]\n",
        "data=final_data[['runtime','vote weight','vote_count']]\n",
        "labels = final_data['vote_average']\n",
        "print(final_data.corr()['vote_average'])\n",
        "data = np.array(data)\n",
        "labels=np.array(labels)\n",
        "X_train,X_test,y_train,y_test=train_test_split(data,labels,test_size=0.3,random_state=42)"
      ],
      "execution_count": 29,
      "outputs": [
        {
          "output_type": "stream",
          "text": [
            "Unnamed: 0             -0.006592\n",
            "budget                  0.059642\n",
            "genres                  0.017728\n",
            "popularity              0.303980\n",
            "production_companies    0.165474\n",
            "revenue                 0.233226\n",
            "runtime                 0.413934\n",
            "cast                    0.300295\n",
            "crew                    0.260597\n",
            "vote_count              0.382992\n",
            "vote weight             0.414971\n",
            "vote_average            1.000000\n",
            "Name: vote_average, dtype: float64\n"
          ],
          "name": "stdout"
        }
      ]
    },
    {
      "cell_type": "code",
      "metadata": {
        "id": "uNbJ-odUB-Gh",
        "colab_type": "code",
        "outputId": "2417af86-78ff-4fec-dd82-26e24098e79c",
        "colab": {
          "base_uri": "https://localhost:8080/",
          "height": 34
        }
      },
      "source": [
        "from sklearn.preprocessing import PolynomialFeatures\n",
        "poly_features = PolynomialFeatures(degree=2)\n",
        "X_train_poly = poly_features.fit_transform(X_train)\n",
        "X_test_poly = poly_features.fit_transform(X_test)\n",
        "clf_poly = LinearRegression().fit(X_train_poly,y_train)\n",
        "prd = clf_poly.predict(X_test_poly)\n",
        "print(mean_squared_error(y_test,prd))"
      ],
      "execution_count": 30,
      "outputs": [
        {
          "output_type": "stream",
          "text": [
            "0.5301818291183458\n"
          ],
          "name": "stdout"
        }
      ]
    },
    {
      "cell_type": "code",
      "metadata": {
        "id": "2NCxOFyAWsC6",
        "colab_type": "code",
        "outputId": "d5aa55b9-8a01-4c94-8e66-b90a8e1c3a4b",
        "colab": {
          "base_uri": "https://localhost:8080/",
          "height": 34
        }
      },
      "source": [
        "clf = LinearRegression().fit(X_train,y_train)\n",
        "from sklearn.metrics import mean_squared_error\n",
        "y_hat = clf.predict(X_test)\n",
        "print(mean_squared_error(y_test,y_hat))"
      ],
      "execution_count": 31,
      "outputs": [
        {
          "output_type": "stream",
          "text": [
            "0.6322594295785637\n"
          ],
          "name": "stdout"
        }
      ]
    },
    {
      "cell_type": "code",
      "metadata": {
        "id": "7MZMTxvAKQhp",
        "colab_type": "code",
        "colab": {}
      },
      "source": [
        "mx=np.max(temp,axis=0)\n",
        "mn=np.min(temp,axis=0)\n",
        "genres_dict=dict()\n",
        "i = 0 \n",
        "for item in d:\n",
        "    genres_dict[item]=((temp[i]-mn)/(mx-mn))\n",
        "    print(item)\n",
        "    print(genres_dict)\n",
        "    i+=1"
      ],
      "execution_count": 0,
      "outputs": []
    },
    {
      "cell_type": "code",
      "metadata": {
        "id": "LXtdoPdwppgB",
        "colab_type": "code",
        "outputId": "bf125ea0-14fc-4943-dbd5-c4c62ab0c6f1",
        "colab": {
          "base_uri": "https://localhost:8080/",
          "height": 34
        }
      },
      "source": [
        "print(combined_data.shape)"
      ],
      "execution_count": 0,
      "outputs": [
        {
          "output_type": "stream",
          "text": [
            "(3799, 24)\n"
          ],
          "name": "stdout"
        }
      ]
    },
    {
      "cell_type": "code",
      "metadata": {
        "id": "HBA2BdLchtvz",
        "colab_type": "code",
        "colab": {}
      },
      "source": [
        "combined_data=combined_data.drop(['homepage','id','original_language','original_title','overview','release_date','status','tagline','title','movie_id'],axis=1)"
      ],
      "execution_count": 0,
      "outputs": []
    }
  ]
}